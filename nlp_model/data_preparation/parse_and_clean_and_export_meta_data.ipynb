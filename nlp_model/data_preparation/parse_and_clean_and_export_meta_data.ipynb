{
  "cells": [
    {
      "cell_type": "code",
      "execution_count": null,
      "metadata": {
        "gather": {
          "logged": 1637274742742
        },
        "id": "f5NDXrN2CtH7"
      },
      "outputs": [],
      "source": [
        "import os\n",
        "import json\n",
        "import gzip\n",
        "import pandas as pd\n",
        "from urllib.request import urlopen\n",
        "\n",
        "from azureml.core import Workspace, Dataset, Datastore \n",
        "from azureml.data.dataset_factory import DataType\n",
        "import gzip\n",
        "\n",
        "import os, uuid\n",
        "from azure.storage.blob import BlobServiceClient, BlobClient, ContainerClient, __version__\n",
        "\n",
        "try:\n",
        "    print(\"Azure Blob Storage v\" + __version__ + \" - Python quickstart sample\")\n",
        "\n",
        "    # Quick start code goes here\n",
        "\n",
        "except Exception as ex:\n",
        "    print('Exception:')\n",
        "    print(ex)"
      ]
    },
    {
      "cell_type": "code",
      "execution_count": null,
      "metadata": {
        "colab": {
          "base_uri": "https://localhost:8080/",
          "height": 204
        },
        "gather": {
          "logged": 1637274742624
        },
        "id": "feWoOrmt4Tja",
        "outputId": "963508d3-a264-4323-c160-dd046b3a1703"
      },
      "outputs": [],
      "source": [
        "# !wget http://deepyeti.ucsd.edu/jianmo/amazon/metaFiles2/meta_AMAZON_FASHION.json.gz\n",
        "# !wget http://deepyeti.ucsd.edu/jianmo/amazon/metaFiles2/meta_All_Beauty.json.gz\n",
        "# !wget http://deepyeti.ucsd.edu/jianmo/amazon/metaFiles2/meta_Appliances.json.gz\n",
        "# !wget http://deepyeti.ucsd.edu/jianmo/amazon/metaFiles2/meta_Arts_Crafts_and_Sewing.json.gz\n",
        "# !wget http://deepyeti.ucsd.edu/jianmo/amazon/metaFiles2/meta_Automotive.json.gz\n",
        "# !wget http://deepyeti.ucsd.edu/jianmo/amazon/metaFiles2/meta_Books.json.gz\n",
        "# !wget http://deepyeti.ucsd.edu/jianmo/amazon/metaFiles2/meta_CDs_and_Vinyl.json.gz\n",
        "# !wget http://deepyeti.ucsd.edu/jianmo/amazon/metaFiles2/meta_Cell_Phones_and_Accessories.json.gz\n",
        "# !wget http://deepyeti.ucsd.edu/jianmo/amazon/metaFiles2/meta_Clothing_Shoes_and_Jewelry.json.gz\n",
        "# !wget http://deepyeti.ucsd.edu/jianmo/amazon/metaFiles2/meta_Electronics.json.gz\n",
        "# !wget http://deepyeti.ucsd.edu/jianmo/amazon/metaFiles2/meta_Home_and_Kitchen.json.gz\n",
        "# !wget http://deepyeti.ucsd.edu/jianmo/amazon/metaFiles2/meta_Industrial_and_Scientific.json.gz\n",
        "# !wget http://deepyeti.ucsd.edu/jianmo/amazon/metaFiles2/meta_Luxury_Beauty.json.gz\n",
        "# !wget http://deepyeti.ucsd.edu/jianmo/amazon/metaFiles2/meta_Musical_Instruments.json.gz\n",
        "# !wget http://deepyeti.ucsd.edu/jianmo/amazon/metaFiles2/meta_Office_Products.json.gz\n",
        "# !wget http://deepyeti.ucsd.edu/jianmo/amazon/metaFiles2/meta_Patio_Lawn_and_Garden.json.gz\n",
        "# !wget http://deepyeti.ucsd.edu/jianmo/amazon/metaFiles2/meta_Pet_Supplies.json.gz\n",
        "# !wget http://deepyeti.ucsd.edu/jianmo/amazon/metaFiles2/meta_Prime_Pantry.json.gz\n",
        "# !wget http://deepyeti.ucsd.edu/jianmo/amazon/metaFiles2/meta_Software.json.gz\n",
        "# !wget http://deepyeti.ucsd.edu/jianmo/amazon/metaFiles2/meta_Sports_and_Outdoors.json.gz\n",
        "# !wget http://deepyeti.ucsd.edu/jianmo/amazon/metaFiles2/meta_Tools_and_Home_Improvement.json.gz\n",
        "# !wget http://deepyeti.ucsd.edu/jianmo/amazon/metaFiles2/meta_Toys_and_Games.json.gz\n",
        "# !wget http://deepyeti.ucsd.edu/jianmo/amazon/metaFiles2/meta_Video_Games.json.gz\n",
        "# !wget http://snap.stanford.edu/data/amazon/productGraph/categoryFiles/meta_Automotive.json.gz\n",
        "# !wget http://deepyeti.ucsd.edu/jianmo/amazon/metaFiles2/meta_Clothing_Shoes_and_Jewelry.json.gz\n",
        "# !wget http://snap.stanford.edu/data/amazon/productGraph/categoryFiles/meta_Electronics.json.gz\n",
        "# !wget http://snap.stanford.edu/data/amazon/productGraph/categoryFiles/meta_Home_and_Kitchen.json.gz\n",
        "# !wget http://snap.stanford.edu/data/amazon/productGraph/categoryFiles/meta_Tools_and_Home_Improvement.json.gz\n",
        "# !wget http://snap.stanford.edu/data/amazon/productGraph/categoryFiles/meta_Clothing_Shoes_and_Jewelry.json.gz\n",
        "!wget http://snap.stanford.edu/data/amazon/productGraph/categoryFiles/meta_Electronics.json.gz"
      ]
    },
    {
      "cell_type": "code",
      "execution_count": null,
      "metadata": {
        "colab": {
          "base_uri": "https://localhost:8080/",
          "height": 71
        },
        "gather": {
          "logged": 1637300089336
        },
        "id": "7igYuRaV4bF7",
        "outputId": "c0595e40-c850-43b2-d32a-43cb2cbd0e1f"
      },
      "outputs": [],
      "source": [
        "subscription_id = '2f075b2a-be8f-43c8-99ca-3342f586eabf'\n",
        "resource_group = 'ieee-nlp-search'\n",
        "workspace_name = 'ieee-search-nlp'\n",
        "workspace = Workspace(subscription_id, resource_group, workspace_name)\n",
        "\n",
        "product_datastore = Datastore.get(workspace, 'workspaceblobstore')\n",
        "\n",
        "\n",
        "\n",
        "### load the meta data\n",
        "\n",
        "# path = \"meta_Clothing_Shoes_and_Jewelry.json.gz\"\n",
        "# path = \"metaa_Clothing_Shoes_and_Jewelry.json.gz\"\n",
        "path = \"meta_Electronics.json.gz\"\n",
        "\n",
        "\n",
        "\n",
        "\n",
        "\n",
        "\n",
        "\n",
        "with gzip.open(path) as f:\n",
        "    data = f.read()\n",
        "    fn = path.replace(\"json.gz\",\"json\")\n",
        "    tf = open(fn, \"w\")\n",
        "    tf.write(data.decode())\n",
        "    tf.close()\n",
        "\n",
        "\n",
        "product_datastore.upload_files([fn], overwrite=True)\n",
        "\n",
        "\n",
        "# data = []\n",
        "# with gzip.open(\"meta_Electronics.json.gz\") as f:\n",
        "#     for l in f:\n",
        "#         data.append(json.loads(l.strip()))\n",
        "    \n",
        "# total length of list, this number equals total number of products\n",
        "print(\"done\")\n",
        "\n",
        "# first row of the list\n",
        "# print(data[0])\n",
        "\n",
        "# jsonStr = json.dumps(data)\n",
        "# jsonFile = open(\"data.json\", \"w\")\n",
        "# jsonFile.write(jsonStr)\n",
        "# jsonFile.close()\n",
        "\n"
      ]
    },
    {
      "cell_type": "code",
      "execution_count": null,
      "metadata": {
        "jupyter": {
          "outputs_hidden": false,
          "source_hidden": false
        },
        "nteract": {
          "transient": {
            "deleting": false
          }
        }
      },
      "outputs": [],
      "source": [
        "df = pd.read_json('meta_Electronics.json')"
      ]
    }
  ],
  "metadata": {
    "colab": {
      "collapsed_sections": [],
      "name": "parse_and_clean_meta_data.ipynb",
      "provenance": []
    },
    "kernel_info": {
      "name": "python3"
    },
    "kernelspec": {
      "display_name": "Python 3",
      "language": "python",
      "name": "python3"
    },
    "language_info": {
      "codemirror_mode": {
        "name": "ipython",
        "version": 3
      },
      "file_extension": ".py",
      "mimetype": "text/x-python",
      "name": "python",
      "nbconvert_exporter": "python",
      "pygments_lexer": "ipython3",
      "version": "3.6.9"
    },
    "microsoft": {
      "host": {
        "AzureML": {
          "notebookHasBeenCompleted": true
        }
      }
    },
    "nteract": {
      "version": "nteract-front-end@1.0.0"
    }
  },
  "nbformat": 4,
  "nbformat_minor": 0
}
