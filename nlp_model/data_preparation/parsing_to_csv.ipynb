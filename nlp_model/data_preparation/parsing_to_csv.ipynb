{
  "cells": [
    {
      "cell_type": "code",
      "execution_count": 11,
      "metadata": {
        "id": "f5NDXrN2CtH7"
      },
      "outputs": [],
      "source": [
        "import os\n",
        "import json\n",
        "import gzip\n",
        "import pandas as pd\n",
        "from urllib.request import urlopen"
      ]
    },
    {
      "cell_type": "code",
      "execution_count": 13,
      "metadata": {
        "colab": {
          "base_uri": "https://localhost:8080/"
        },
        "id": "feWoOrmt4Tja",
        "outputId": "009eee27-468e-45a9-ea46-430a5ebe85c6"
      },
      "outputs": [
        {
          "name": "stdout",
          "output_type": "stream",
          "text": [
            "--2021-11-19 05:48:33--  http://snap.stanford.edu/data/amazon/productGraph/categoryFiles/meta_Electronics.json.gz\n",
            "Resolving snap.stanford.edu (snap.stanford.edu)... 171.64.75.80\n",
            "Connecting to snap.stanford.edu (snap.stanford.edu)|171.64.75.80|:80... connected.\n",
            "HTTP request sent, awaiting response... 200 OK\n",
            "Length: 186594679 (178M) [application/x-gzip]\n",
            "Saving to: ‘meta_Electronics.json.gz.1’\n",
            "\n",
            "meta_Electronics.js 100%[===================>] 177.95M  1.60MB/s    in 49s     \n",
            "\n",
            "2021-11-19 05:49:22 (3.60 MB/s) - ‘meta_Electronics.json.gz.1’ saved [186594679/186594679]\n",
            "\n"
          ]
        }
      ],
      "source": [
        "!wget http://snap.stanford.edu/data/amazon/productGraph/categoryFiles/meta_Electronics.json.gz"
      ]
    },
    {
      "cell_type": "code",
      "execution_count": 53,
      "metadata": {
        "colab": {
          "base_uri": "https://localhost:8080/"
        },
        "id": "7igYuRaV4bF7",
        "outputId": "2d6b5c92-3873-4459-c6f2-6e4b22eb4e53"
      },
      "outputs": [
        {
          "name": "stdout",
          "output_type": "stream",
          "text": [
            "176255\n",
            "321941\n",
            "['Kelby Training DVD: Mastering Blend Modes in Adobe Photoshop CS5 By Corey Barker', 'Electronics'] <class 'list'>\n"
          ]
        }
      ],
      "source": [
        "### load the meta data\n",
        "\n",
        "data = []\n",
        "left = 0\n",
        "with gzip.open('meta_Electronics.json.gz') as f:\n",
        "    for l in f:\n",
        "      try:\n",
        "        # print(\":\")\n",
        "        # print(l)\n",
        "        l = str(l).strip(\"\\\"b\\\\n'\").replace(\"'\", \"\\\"\").replace(\"\\\\\", \"\")\n",
        "        # print(l)\n",
        "        # print(json.loads(l))\n",
        "        k= json.loads(l)\n",
        "        data.append([str(k['title']),'Electronics'])\n",
        "      except:\n",
        "        left = left + 1\n",
        "\n",
        "print(left)\n",
        "    \n",
        "# total length of list, this number equals total number of products\n",
        "print(len(data))\n",
        "\n",
        "# first row of the list\n",
        "# list = \n",
        "print(data[0],type(data[0]))\n",
        "\n"
      ]
    },
    {
      "cell_type": "code",
      "execution_count": 55,
      "metadata": {
        "id": "9ZwWY60j6nvh"
      },
      "outputs": [],
      "source": [
        "import csv\n",
        "  \n",
        "  \n",
        "# field names \n",
        "fields = ['title','main_cat'] \n",
        "    \n",
        "# data rows of csv file \n",
        "  \n",
        "with open('meta_Electronics.csv', 'w') as f:\n",
        "      \n",
        "    # using csv.writer method from CSV package\n",
        "    write = csv.writer(f)\n",
        "      \n",
        "    write.writerow(fields)\n",
        "    write.writerows(data)"
      ]
    },
    {
      "cell_type": "code",
      "execution_count": null,
      "metadata": {
        "colab": {
          "base_uri": "https://localhost:8080/",
          "height": 34
        },
        "id": "knpHP22w4scK",
        "outputId": "b75be678-1377-4b8c-b689-56e1eab703b8"
      },
      "outputs": [
        {
          "name": "stdout",
          "output_type": "stream",
          "text": [
            "18772\n"
          ]
        }
      ],
      "source": [
        "# convert list into pandas dataframe\n",
        "\n",
        "df = pd.DataFrame.from_dict(data)\n",
        "\n",
        "print(len(df))"
      ]
    },
    {
      "cell_type": "code",
      "execution_count": null,
      "metadata": {
        "colab": {
          "base_uri": "https://localhost:8080/",
          "height": 51
        },
        "id": "LgWrDtZ94w89",
        "outputId": "7e22e4ab-1622-4452-ce81-54e85ef92522"
      },
      "outputs": [
        {
          "name": "stdout",
          "output_type": "stream",
          "text": [
            "135\n",
            "18637\n"
          ]
        }
      ],
      "source": [
        "### remove rows with unformatted title (i.e. some 'title' may still contain html style content)\n",
        "\n",
        "df3 = df.fillna('')\n",
        "df4 = df3[df3.title.str.contains('getTime')] # unformatted rows\n",
        "df5 = df3[~df3.title.str.contains('getTime')] # filter those unformatted rows\n",
        "print(len(df4))\n",
        "print(len(df5))"
      ]
    },
    {
      "cell_type": "code",
      "execution_count": null,
      "metadata": {
        "colab": {
          "base_uri": "https://localhost:8080/",
          "height": 306
        },
        "id": "7Vq32rQd5D9W",
        "outputId": "2965e85b-d993-4520-a992-d42e0cec3f01"
      },
      "outputs": [
        {
          "data": {
            "text/plain": [
              "description                                                      \n",
              "title           var aPageStart = (new Date()).getTime();\\nvar ...\n",
              "image                                                            \n",
              "brand                                              DS Miller Inc.\n",
              "rank            [>#1,826,312 in Electronics (See Top 100 in El...\n",
              "main_cat                                                Computers\n",
              "date                                                March 1, 2010\n",
              "asin                                                   B0016C5EXY\n",
              "feature                                                          \n",
              "tech1                                                            \n",
              "also_buy                                                         \n",
              "price                                                            \n",
              "also_view                                                        \n",
              "tech2                                                            \n",
              "details                                                          \n",
              "similar_item                                                     \n",
              "Name: 1186, dtype: object"
            ]
          },
          "execution_count": 7,
          "metadata": {
            "tags": []
          },
          "output_type": "execute_result"
        }
      ],
      "source": [
        "# how those unformatted rows look like\n",
        "df4.iloc[0]"
      ]
    },
    {
      "cell_type": "code",
      "execution_count": null,
      "metadata": {
        "id": "6LBLzsFU5LJ_"
      },
      "outputs": [],
      "source": []
    },
    {
      "cell_type": "code",
      "execution_count": null,
      "metadata": {
        "id": "WqZcdGp-5cui"
      },
      "outputs": [],
      "source": []
    }
  ],
  "metadata": {
    "colab": {
      "collapsed_sections": [],
      "name": "parse_and_clean_meta_data.ipynb",
      "provenance": []
    },
    "kernelspec": {
      "display_name": "Python 3",
      "name": "python3"
    }
  },
  "nbformat": 4,
  "nbformat_minor": 0
}
